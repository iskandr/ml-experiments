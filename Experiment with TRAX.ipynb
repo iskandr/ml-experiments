{
 "cells": [
  {
   "cell_type": "code",
   "execution_count": 1,
   "metadata": {},
   "outputs": [
    {
     "name": "stdout",
     "output_type": "stream",
     "text": [
      "INFO:tensorflow:tokens_length=568 inputs_length=512 targets_length=114 noise_density=0.15 mean_noise_span_length=3.0 \n"
     ]
    }
   ],
   "source": [
    "import trax"
   ]
  },
  {
   "cell_type": "code",
   "execution_count": 2,
   "metadata": {},
   "outputs": [
    {
     "data": {
      "text/plain": [
       "<module 'trax' from '/usr/local/lib/python3.7/site-packages/trax/__init__.py'>"
      ]
     },
     "execution_count": 2,
     "metadata": {},
     "output_type": "execute_result"
    }
   ],
   "source": [
    "trax"
   ]
  },
  {
   "cell_type": "code",
   "execution_count": 5,
   "metadata": {},
   "outputs": [],
   "source": [
    "trax.models.reformer.Reformer??"
   ]
  },
  {
   "cell_type": "code",
   "execution_count": 7,
   "metadata": {},
   "outputs": [],
   "source": [
    "trax.models.TransformerEncoder(n_)"
   ]
  },
  {
   "cell_type": "code",
   "execution_count": 8,
   "metadata": {},
   "outputs": [],
   "source": [
    "df = pd.read_csv(\"class1_sequences.csv\")"
   ]
  },
  {
   "cell_type": "code",
   "execution_count": 11,
   "metadata": {},
   "outputs": [],
   "source": [
    "from pepdata.amino_acid_alphabet import peptide_to_indices\n",
    "encoded_sequences = df.seq.str.replace(\"?\", \"X\").map(peptide_to_indices).values"
   ]
  },
  {
   "cell_type": "code",
   "execution_count": 12,
   "metadata": {},
   "outputs": [
    {
     "data": {
      "text/plain": [
       "array([list([12, 0, 19, 12, 0, 14, 1, 16, 10, 10, 10, 10, 10, 15, 7, 0, 10, 0, 10, 16, 6, 16, 17, 0, 7, 15, 8, 15, 12, 1, 18, 13, 13, 16, 15, 19, 15, 1, 14, 7, 1, 7, 5, 14, 1, 13, 9, 0, 19, 7, 18, 19, 3, 3, 16, 6, 13, 19, 1, 13, 3, 15, 3, 0, 0, 15, 6, 11, 12, 5, 14, 1, 0, 14, 17, 9, 5, 6, 5, 7, 14, 5, 18, 17, 3, 6, 5, 16, 1, 2, 12, 11, 0, 8, 15, 6, 16, 3, 1, 0, 2, 10, 7, 16, 10, 1, 7, 18, 18, 2, 6, 15, 5, 3, 7, 15, 8, 16, 9, 6, 9, 12, 18, 7, 4, 3, 19, 7, 14, 3, 7, 1, 13, 10, 1, 7, 18, 1, 6, 3, 0, 18, 3, 7, 11, 3, 18, 9, 0, 10, 2, 5, 3, 10, 1, 15, 17, 16, 0, 0, 3, 12, 0, 0, 6, 9, 16, 11, 1, 11, 17, 5, 0, 19, 8, 0, 0, 5, 6, 1, 1, 19, 18, 10, 5, 7, 1, 4, 19, 3, 7, 10, 1, 1, 18, 10, 5, 2, 7, 11, 5, 16, 10, 6, 1, 16, 3, 14, 14, 11, 16, 8, 12, 16, 8, 8, 14, 9, 15, 3, 8, 5, 0, 16, 10, 1, 4, 17, 0, 10, 7, 13, 18, 14, 0, 5, 9, 16, 10, 16, 17, 6, 1, 3, 7, 5, 3, 6, 16, 6, 3, 16, 5, 10, 19, 5, 16, 1, 14, 0, 7, 3, 7, 16, 13, 6, 11, 17, 0, 0, 19, 19, 19, 14, 15, 7, 5, 5, 6, 1, 18, 16, 4, 8, 19, 6, 8, 5, 7, 10, 14, 11, 14, 10, 16, 10, 1, 17, 5, 10, 15, 15, 6, 14, 16, 9, 14, 9, 19, 7, 9, 9, 0, 7, 10, 19, 10, 10, 7, 0, 19, 9, 16, 7, 0, 19, 19, 0, 0, 19, 12, 17, 1, 1, 11, 15, 15, 3, 1, 11, 7, 7, 15, 18, 16, 6, 0, 0, 15, 15, 3, 15, 0, 6, 7, 15, 3, 19, 15, 10, 16, 0, 4, 11, 19]),\n",
       "       list([12, 0, 19, 12, 0, 14, 1, 16, 10, 10, 10, 10, 10, 15, 7, 0, 10, 0, 10, 16, 6, 16, 17, 0, 7, 15, 8, 15, 12, 1, 18, 13, 15, 16, 15, 19, 15, 1, 14, 7, 15, 7, 5, 14, 1, 13, 9, 0, 19, 7, 18, 19, 3, 3, 16, 6, 13, 19, 1, 13, 3, 15, 3, 0, 0, 15, 6, 11, 12, 5, 14, 1, 0, 14, 17, 9, 5, 6, 5, 7, 14, 5, 18, 17, 3, 6, 5, 16, 1, 2, 12, 11, 0, 8, 15, 6, 16, 3, 1, 0, 2, 10, 7, 16, 10, 1, 7, 18, 18, 2, 6, 15, 5, 3, 7, 15, 8, 16, 9, 6, 9, 12, 18, 7, 4, 3, 19, 7, 14, 3, 7, 1, 13, 10, 1, 7, 18, 1, 6, 3, 0, 18, 3, 7, 11, 3, 18, 9, 0, 10, 2, 5, 3, 10, 1, 15, 17, 16, 0, 0, 3, 12, 0, 0, 6, 9, 16, 11, 1, 11, 17, 5, 0, 19, 8, 0, 0, 5, 6, 1, 1, 19, 18, 10, 5, 7, 1, 4, 19, 3, 7, 10, 1, 1, 18, 10, 5, 2, 7, 11, 5, 16, 10, 6, 1, 16, 3, 14, 14, 11, 16, 8, 12, 16, 8, 8, 14, 9, 15, 3, 8, 5, 0, 16, 10, 1, 4, 17, 0, 10, 7, 13, 18, 14, 0, 5, 9, 16, 10, 16, 17, 6, 1, 3, 7, 5, 3, 6, 16, 6, 3, 16, 5, 10, 19, 5, 16, 1, 14, 0, 7, 3, 7, 16, 13, 6, 11, 17, 0, 0, 19, 19, 19, 14, 15, 7, 5, 5, 6, 1, 18, 16, 4, 8, 19, 6, 8, 5, 7, 10, 14, 11, 14, 10, 16, 10, 1, 17, 5, 10, 15, 15, 6, 14, 16, 9, 14, 9, 19, 7, 9, 9, 0, 7, 10, 19, 10, 10, 7, 0, 19, 9, 16, 7, 0, 19, 19, 0, 0, 19, 12, 17, 1, 1, 11, 15, 15, 3, 1, 11, 7, 7, 15, 18, 16, 6, 0, 0, 15, 15, 3, 15, 0, 6, 7, 15, 3, 19, 15, 10, 16, 0, 4, 11, 19]),\n",
       "       list([12, 0, 19, 12, 0, 14, 1, 16, 10, 10, 10, 10, 10, 15, 7, 0, 10, 0, 10, 16, 6, 16, 17, 0, 7, 15, 8, 15, 12, 1, 18, 13, 13, 16, 15, 19, 15, 1, 14, 7, 1, 7, 5, 14, 1, 13, 9, 0, 19, 7, 18, 19, 3, 3, 16, 6, 13, 19, 1, 13, 3, 15, 3, 0, 0, 15, 6, 11, 12, 5, 14, 1, 0, 14, 17, 9, 5, 6, 5, 7, 14, 5, 18, 17, 3, 6, 5, 16, 1, 2, 12, 11, 0, 8, 15, 6, 16, 3, 1, 0, 2, 10, 7, 16, 10, 1, 7, 18, 18, 2, 6, 15, 5, 3, 7, 15, 8, 16, 9, 6, 12, 12, 18, 7, 4, 3, 19, 7, 14, 3, 7, 1, 13, 10, 1, 7, 18, 1, 6, 3, 0, 18, 3, 7, 11, 3, 18, 9, 0, 10, 2, 5, 3, 10, 1, 15, 17, 16, 0, 0, 3, 12, 0, 0, 6, 9, 16, 11, 1, 11, 17, 5, 0, 19, 8, 0, 0, 5, 6, 1, 1, 19, 18, 10, 5, 7, 1, 4, 19, 3, 7, 10, 1, 1, 18, 10, 5, 2, 7, 11, 5, 16, 10, 6, 1, 16, 3, 14, 14, 11, 16, 8, 12, 16, 8, 8, 14, 9, 15, 3, 8, 5, 0, 16, 10, 1, 4, 17, 0, 10, 7, 13, 18, 14, 0, 5, 9, 16, 10, 16, 17, 6, 1, 3, 7, 5, 3, 6, 16, 6, 3, 16, 5, 10, 19, 5, 16, 1, 14, 0, 7, 3, 7, 16, 13, 6, 11, 17, 0, 0, 19, 19, 19, 14, 15, 7, 5, 5, 6, 1, 18, 16, 4, 8, 19, 6, 8, 5, 7, 10, 14, 11, 14, 10, 16, 10, 1, 17, 5, 10, 15, 15, 6, 14, 16, 9, 14, 9, 19, 7, 9, 9, 0, 7, 10, 19, 10, 10, 7, 0, 19, 9, 16, 7, 0, 19, 19, 0, 0, 19, 12, 17, 1, 1, 11, 15, 15, 3, 1, 11, 7, 7, 15, 18, 16, 6, 0, 0, 15, 15, 3, 15, 0, 6, 7, 15, 3, 19, 15, 10, 16, 0, 4, 11, 19]),\n",
       "       ...,\n",
       "       list([12, 0, 14, 1, 16, 10, 10, 10, 10, 10, 0, 0, 0, 10, 0, 14, 16, 6, 16, 1, 0, 7, 14, 8, 15, 10, 1, 18, 13, 19, 16, 0, 19, 15, 1, 14, 7, 10, 7, 11, 14, 1, 18, 12, 5, 19, 7, 18, 19, 3, 2, 16, 5, 13, 19, 1, 13, 3, 15, 3, 0, 5, 2, 14, 1, 12, 11, 14, 1, 19, 1, 17, 12, 5, 6, 5, 7, 14, 5, 18, 17, 5, 6, 5, 16, 6, 2, 0, 11, 3, 8, 5, 6, 15, 13, 1, 19, 15, 10, 1, 2, 10, 10, 7, 18, 18, 2, 6, 15, 11, 7, 7, 15, 8, 16, 9, 6, 7, 12, 1, 7, 4, 3, 19, 7, 15, 3, 17, 1, 10, 10, 1, 7, 18, 5, 6, 13, 0, 18, 3, 7, 14, 3, 18, 9, 0, 10, 2, 5, 3, 10, 11, 16, 17, 16, 0, 0, 3, 12, 0, 0, 6, 9, 16, 1, 1, 11, 17, 5, 6, 0, 7, 0, 0, 5, 16, 10, 1, 0, 18, 10, 5, 7, 0, 4, 19, 5, 17, 10, 1, 1, 18, 10, 5, 10, 7, 2, 0, 16, 10, 10, 4, 16, 3, 14, 14, 11, 0, 8, 19, 16, 8, 8, 14, 1, 15, 5, 7, 11, 19, 16, 10, 1, 4, 17, 0, 10, 7, 13, 18, 14, 0, 3, 9, 16, 10, 16, 17, 6, 10, 2, 7, 5, 5, 10, 16, 6, 3, 12, 5, 10, 19, 5, 16, 1, 14, 0, 7, 3, 7, 16, 13, 6, 11, 17, 0, 0, 10, 19, 19, 14, 10, 7, 11, 5, 6, 2, 18, 16, 4, 8, 19, 5, 8, 5, 7, 10, 14, 5, 14, 10, 16, 10, 1, 17, 5, 14, 14, 14, 15, 16, 3, 15, 18, 12, 19, 9, 19, 0, 19, 10, 19, 19, 10, 7, 0, 19, 13, 9, 9, 7, 0, 19, 19, 0, 13, 19, 12, 12, 12, 1, 1, 2, 16, 7, 7, 11, 7, 7, 3, 18, 16, 10, 0, 14, 7, 15, 6, 15, 15, 5, 12, 15, 10, 1, 3, 4, 11, 19, 12, 19, 8, 3, 15, 8, 15, 10, 0]),\n",
       "       list([14, 1, 13, 9, 15, 19, 7, 18, 19, 3, 3, 16, 5, 10, 19, 1, 13, 3, 15, 3, 0, 5, 2, 14, 1, 18, 5, 14, 1, 0, 1, 17, 12, 5, 6, 19, 5, 14, 5, 18, 17, 5, 1, 2, 16, 6, 9, 0, 11, 3, 2, 5, 6, 15, 15, 1, 19, 3, 10, 1, 16, 10, 10, 1, 18, 18, 2, 6, 15, 0, 7, 7, 15, 8, 16, 9, 6, 1, 12, 18, 7, 4, 3, 19, 7, 15, 3, 7, 1, 10, 10, 1, 7, 18, 5, 6, 19, 0, 18, 3, 7, 4, 3, 18, 9, 0, 10, 2, 5, 3, 10, 11, 16, 17, 16, 0, 0, 3, 12, 0, 0, 10, 9, 16, 11, 8, 11, 17, 5, 6, 0, 7, 0, 0, 5, 1, 1, 1, 0, 18, 10, 5, 7, 0, 4, 19, 5, 17, 10, 15, 1, 8, 10, 11, 2, 7, 2, 0, 16, 10, 10, 1, 16, 3, 15, 14, 11, 0, 8, 19, 16, 8, 8, 15, 1, 14, 5, 3, 11, 19, 16, 10, 1, 4, 17, 0, 10, 7, 13, 18, 14, 0, 3, 9, 16, 10, 16, 17, 6, 10, 2, 7, 5, 5, 10, 16, 6, 3, 12, 5, 10, 19, 5, 16, 1, 14, 0, 7, 3, 7, 16, 13, 6, 11, 17, 0, 15, 19, 19, 19, 14, 10, 7, 11, 5, 6, 18, 18, 16, 4, 8, 19, 18, 8, 6, 7, 10, 14, 11, 14, 10, 16, 10, 1, 17, 5, 14, 14, 14, 15, 0, 19, 15, 2, 16, 19, 9, 9, 0, 19, 10, 19, 19, 10, 7, 0, 0, 9, 19, 16, 7, 0, 19, 19, 0, 13, 19, 12, 12, 1, 1, 1, 2, 16, 7, 7, 11, 7, 7, 3, 18, 0, 10, 0, 14, 7, 15, 6, 16, 15, 3, 10, 15, 10, 14, 3, 4, 11, 19, 12, 19, 8, 3, 14, 8, 15, 10, 0]),\n",
       "       list([12, 7, 0, 12, 0, 14, 1, 16, 10, 10, 10, 10, 10, 0, 0, 0, 10, 0, 14, 16, 6, 16, 1, 0, 7, 14, 8, 15, 12, 1, 18, 13, 5, 16, 0, 19, 15, 1, 14, 7, 10, 7, 5, 14, 1, 18, 9, 15, 19, 7, 18, 19, 3, 2, 11, 5, 13, 19, 1, 13, 3, 15, 3, 0, 5, 2, 14, 1, 18, 5, 14, 6, 0, 14, 17, 12, 5, 6, 5, 7, 14, 5, 18, 17, 5, 1, 9, 16, 6, 9, 0, 11, 7, 6, 5, 6, 17, 13, 1, 19, 2, 10, 1, 16, 10, 10, 7, 18, 18, 2, 6, 15, 0, 7, 7, 16, 8, 16, 9, 6, 1, 12, 18, 7, 4, 3, 19, 7, 15, 8, 17, 1, 10, 10, 1, 7, 18, 5, 6, 18, 0, 18, 3, 7, 4, 3, 18, 9, 0, 10, 2, 5, 3, 10, 11, 16, 17, 16, 0, 0, 3, 12, 0, 0, 6, 9, 16, 1, 1, 11, 17, 5, 6, 0, 7, 0, 0, 5, 8, 18, 11, 0, 18, 10, 5, 7, 5, 4, 19, 5, 17, 10, 8, 1, 18, 10, 11, 2, 7, 2, 0, 16, 10, 10, 1, 16])],\n",
       "      dtype=object)"
      ]
     },
     "execution_count": 12,
     "metadata": {},
     "output_type": "execute_result"
    }
   ],
   "source": [
    "encoded_sequences"
   ]
  },
  {
   "cell_type": "code",
   "execution_count": 27,
   "metadata": {},
   "outputs": [],
   "source": [
    "unique_species = set(df.species_prefix.unique())\n",
    "unique_species_list = list(unique_species)\n",
    "unique_species_indices = {s:i for i, s in enumerate(unique_species_list)}\n",
    "species_indices = np.array([unique_species_indices[s] for s in df.species_prefix], dtype='int32')\n",
    "n_species = len(unique_species)"
   ]
  },
  {
   "cell_type": "code",
   "execution_count": 57,
   "metadata": {},
   "outputs": [],
   "source": [
    "transformer = trax.models.TransformerEncoder(\n",
    "    vocab_size=22,\n",
    "    n_classes=n_species,\n",
    "    d_model=512,\n",
    "    d_ff=2048,\n",
    "    n_layers=2,\n",
    "    n_heads=8,\n",
    "    dropout=0.1,\n",
    "    dropout_shared_axes=None,\n",
    "    max_len=1024,\n",
    ")"
   ]
  },
  {
   "cell_type": "code",
   "execution_count": 74,
   "metadata": {},
   "outputs": [],
   "source": [
    "\n",
    "model = tl.Serial(\n",
    "    tl.Embedding(22, 128),\n",
    "    tl.Mean(),\n",
    "    tl.Dense(n_species),\n",
    "    tl.Softmax(),\n",
    ")"
   ]
  },
  {
   "cell_type": "code",
   "execution_count": 63,
   "metadata": {},
   "outputs": [
    {
     "name": "stdout",
     "output_type": "stream",
     "text": [
      "(14993, 1024)\n",
      "(4, 1024)\n",
      "(4, 33)\n"
     ]
    }
   ],
   "source": [
    "import trax \n",
    "from trax.supervised import training\n",
    "from trax import layers as tl\n",
    "\n",
    "# Training task.\n",
    "\n",
    "X = np.zeros((len(encoded_sequences), 1024), dtype='int32')\n",
    "Y = np.zeros((len(encoded_sequences), n_species), dtype='int32')\n",
    "\n",
    "\n",
    "for i, s in enumerate(encoded_sequences):\n",
    "    X[i, :len(s)] = (np.array(s) + 1)\n",
    "    yi = species_indices[i]\n",
    "    Y[i, yi] = 1\n",
    "    \n",
    "print(X.shape)\n",
    "\n",
    "def batches():\n",
    "    for i in range(len(X) // 4):\n",
    "        yield (\n",
    "            X[4*i:4*i+4, :], \n",
    "            Y[4*i:4*i+4, :])\n",
    "        \n",
    "\n",
    "batch_gen = batches()\n",
    "eval_gen = batches()\n",
    "for x, y in batch_gen:\n",
    "    break\n",
    "print(x.shape)\n",
    "print(y.shape)\n",
    "\n",
    "\n",
    "train_task = training.TrainTask(\n",
    "    labeled_data=batch_gen,\n",
    "    loss_layer=tl.CrossEntropyLoss(),\n",
    "    optimizer=trax.optimizers.Adam(0.01),\n",
    "    n_steps_per_checkpoint=500,\n",
    ")\n",
    "\n",
    "eval_task = training.EvalTask(\n",
    "    labeled_data=eval_gen,\n",
    "    metrics=[tl.CrossEntropyLoss(), tl.Accuracy()],\n",
    "    n_eval_batches=20  # For less variance in eval numbers.\n",
    ")\n"
   ]
  },
  {
   "cell_type": "code",
   "execution_count": 64,
   "metadata": {},
   "outputs": [
    {
     "ename": "LayerError",
     "evalue": "Exception passing through layer Serial (in init):\n  layer created in file [...]/trax/supervised/training.py, line 146\n  layer input shapes: (ShapeDtype{shape:(4, 1024), dtype:int32}, ShapeDtype{shape:(4, 33), dtype:int32})\n\n  File [...]/trax/layers/combinators.py, line 104, in init_weights_and_state\n    sublayer.init(inputs, use_cache=True))\n\nLayerError: Exception passing through layer CrossEntropyLoss (in init):\n  layer created in file [...]/trax/layers/metrics.py, line 96\n  layer input shapes: (ShapeDtype{shape:(4, 33), dtype:float32}, ShapeDtype{shape:(4, 33), dtype:int32})\n\n  File [...]/trax/layers/combinators.py, line 105, in init_weights_and_state\n    outputs, _ = sublayer._forward_abstract(inputs)\n\nLayerError: Exception passing through layer _CrossEntropy (in _forward_abstract):\n  layer created in file [...]/trax/layers/base.py, line 704\n  layer input shapes: (ShapeDtype{shape:(4, 33), dtype:float32}, ShapeDtype{shape:(4, 33), dtype:int32})\n\n  File [...]/jax/interpreters/partial_eval.py, line 324, in abstract_eval_fun\n    instantiate=True, stage_out=True)\n\n  File [...]/jax/interpreters/partial_eval.py, line 423, in trace_to_jaxpr\n    jaxpr, (out_pvals, consts, env) = fun.call_wrapped(pvals)\n\n  File [...]/site-packages/jax/linear_util.py, line 150, in call_wrapped\n    ans = self.f(*args, **dict(self.params, **kwargs))\n\n  File [...]/site-packages/jax/linear_util.py, line 150, in call_wrapped\n    ans = self.f(*args, **dict(self.params, **kwargs))\n\nLayerError: Exception passing through layer _CrossEntropy (in pure_fn):\n  layer created in file [...]/trax/layers/base.py, line 704\n  layer input shapes: (ShapeDtype{shape:(4, 33), dtype:float32}, ShapeDtype{shape:(4, 33), dtype:int32})\n\n  File [...]/trax/layers/base.py, line 658, in forward\n    raw_output = self._forward_fn(inputs)\n\n  File [...]/trax/layers/base.py, line 700, in _forward\n    return f(*xs)\n\n  File [...]/trax/layers/metrics.py, line 131, in f\n    return -1.0 * jnp.sum(model_output * target_distribution, axis=-1)\n\n  File [...]/site-packages/jax/core.py, line 485, in __mul__\n    def __mul__(self, other): return self.aval._mul(self, other)\n\n  File [...]/jax/numpy/lax_numpy.py, line 4384, in deferring_binary_op\n    return binary_op(self, other)\n\n  File [...]/jax/numpy/lax_numpy.py, line 362, in fn\n    x1, x2 = _promote_args(numpy_fn.__name__, x1, x2)\n\n  File [...]/jax/numpy/lax_numpy.py, line 304, in _promote_args\n    return _promote_shapes(fun_name, *_promote_dtypes(*args))\n\n  File [...]/jax/numpy/lax_numpy.py, line 242, in _promote_shapes\n    result_rank = len(lax.broadcast_shapes(*shapes))\n\n  File [...]/jax/lax/lax.py, line 80, in broadcast_shapes\n    .format(tuple(map(tuple, shapes))))\n\nValueError: Incompatible shapes for broadcasting: ((1, 4, 33), (4, 33, 33))",
     "output_type": "error",
     "traceback": [
      "\u001b[0;31m---------------------------------------------------------------------------\u001b[0m",
      "\u001b[0;31mLayerError\u001b[0m                                Traceback (most recent call last)",
      "\u001b[0;32m<ipython-input-64-9dea369e8906>\u001b[0m in \u001b[0;36m<module>\u001b[0;34m\u001b[0m\n\u001b[0;32m----> 1\u001b[0;31m \u001b[0mtraining_loop\u001b[0m \u001b[0;34m=\u001b[0m \u001b[0mtraining\u001b[0m\u001b[0;34m.\u001b[0m\u001b[0mLoop\u001b[0m\u001b[0;34m(\u001b[0m\u001b[0mtransformer\u001b[0m\u001b[0;34m,\u001b[0m \u001b[0mtrain_task\u001b[0m\u001b[0;34m,\u001b[0m \u001b[0meval_tasks\u001b[0m\u001b[0;34m=\u001b[0m\u001b[0;34m[\u001b[0m\u001b[0meval_task\u001b[0m\u001b[0;34m]\u001b[0m\u001b[0;34m)\u001b[0m\u001b[0;34m\u001b[0m\u001b[0;34m\u001b[0m\u001b[0m\n\u001b[0m\u001b[1;32m      2\u001b[0m \u001b[0mtraining_loop\u001b[0m\u001b[0;34m.\u001b[0m\u001b[0mrun\u001b[0m\u001b[0;34m(\u001b[0m\u001b[0;34m)\u001b[0m\u001b[0;34m\u001b[0m\u001b[0;34m\u001b[0m\u001b[0m\n",
      "\u001b[0;32m/usr/local/lib/python3.7/site-packages/trax/supervised/training.py\u001b[0m in \u001b[0;36m__init__\u001b[0;34m(self, model, tasks, eval_model, eval_tasks, output_dir, checkpoint_at, eval_at, n_devices, random_seed)\u001b[0m\n\u001b[1;32m    150\u001b[0m     \u001b[0;31m# different hosts, leading to different weights on the different hosts.\u001b[0m\u001b[0;34m\u001b[0m\u001b[0;34m\u001b[0m\u001b[0;34m\u001b[0m\u001b[0m\n\u001b[1;32m    151\u001b[0m     \u001b[0mself\u001b[0m\u001b[0;34m.\u001b[0m\u001b[0m_model_in_training\u001b[0m\u001b[0;34m.\u001b[0m\u001b[0mrng\u001b[0m \u001b[0;34m=\u001b[0m \u001b[0mself\u001b[0m\u001b[0;34m.\u001b[0m\u001b[0mnew_rng\u001b[0m\u001b[0;34m(\u001b[0m\u001b[0;34m)\u001b[0m\u001b[0;34m\u001b[0m\u001b[0;34m\u001b[0m\u001b[0m\n\u001b[0;32m--> 152\u001b[0;31m     \u001b[0mself\u001b[0m\u001b[0;34m.\u001b[0m\u001b[0m_model_in_training\u001b[0m\u001b[0;34m.\u001b[0m\u001b[0minit\u001b[0m\u001b[0;34m(\u001b[0m\u001b[0mself\u001b[0m\u001b[0;34m.\u001b[0m\u001b[0m_batch_signature\u001b[0m\u001b[0;34m)\u001b[0m\u001b[0;34m\u001b[0m\u001b[0;34m\u001b[0m\u001b[0m\n\u001b[0m\u001b[1;32m    153\u001b[0m     \u001b[0mself\u001b[0m\u001b[0;34m.\u001b[0m\u001b[0m_eval_model\u001b[0m\u001b[0;34m.\u001b[0m\u001b[0mrng\u001b[0m \u001b[0;34m=\u001b[0m \u001b[0mself\u001b[0m\u001b[0;34m.\u001b[0m\u001b[0mnew_rng\u001b[0m\u001b[0;34m(\u001b[0m\u001b[0;34m)\u001b[0m\u001b[0;34m\u001b[0m\u001b[0;34m\u001b[0m\u001b[0m\n\u001b[1;32m    154\u001b[0m     \u001b[0mself\u001b[0m\u001b[0;34m.\u001b[0m\u001b[0m_eval_model\u001b[0m\u001b[0;34m.\u001b[0m\u001b[0minit\u001b[0m\u001b[0;34m(\u001b[0m\u001b[0mself\u001b[0m\u001b[0;34m.\u001b[0m\u001b[0m_batch_signature\u001b[0m\u001b[0;34m)\u001b[0m\u001b[0;34m\u001b[0m\u001b[0;34m\u001b[0m\u001b[0m\n",
      "\u001b[0;32m/usr/local/lib/python3.7/site-packages/trax/layers/base.py\u001b[0m in \u001b[0;36minit\u001b[0;34m(self, input_signature, rng, use_cache)\u001b[0m\n\u001b[1;32m    286\u001b[0m       \u001b[0mname\u001b[0m\u001b[0;34m,\u001b[0m \u001b[0mtrace\u001b[0m \u001b[0;34m=\u001b[0m \u001b[0mself\u001b[0m\u001b[0;34m.\u001b[0m\u001b[0m_name\u001b[0m\u001b[0;34m,\u001b[0m \u001b[0m_short_traceback\u001b[0m\u001b[0;34m(\u001b[0m\u001b[0mskip\u001b[0m\u001b[0;34m=\u001b[0m\u001b[0;36m3\u001b[0m\u001b[0;34m)\u001b[0m\u001b[0;34m\u001b[0m\u001b[0;34m\u001b[0m\u001b[0m\n\u001b[1;32m    287\u001b[0m       raise LayerError(name, 'init', self._caller,\n\u001b[0;32m--> 288\u001b[0;31m                        input_signature, trace) from None\n\u001b[0m\u001b[1;32m    289\u001b[0m \u001b[0;34m\u001b[0m\u001b[0m\n\u001b[1;32m    290\u001b[0m   \u001b[0;32mdef\u001b[0m \u001b[0minit_from_file\u001b[0m\u001b[0;34m(\u001b[0m\u001b[0mself\u001b[0m\u001b[0;34m,\u001b[0m \u001b[0mfile_name\u001b[0m\u001b[0;34m,\u001b[0m \u001b[0mweights_only\u001b[0m\u001b[0;34m=\u001b[0m\u001b[0;32mFalse\u001b[0m\u001b[0;34m,\u001b[0m \u001b[0minput_signature\u001b[0m\u001b[0;34m=\u001b[0m\u001b[0;32mNone\u001b[0m\u001b[0;34m)\u001b[0m\u001b[0;34m:\u001b[0m\u001b[0;34m\u001b[0m\u001b[0;34m\u001b[0m\u001b[0m\n",
      "\u001b[0;31mLayerError\u001b[0m: Exception passing through layer Serial (in init):\n  layer created in file [...]/trax/supervised/training.py, line 146\n  layer input shapes: (ShapeDtype{shape:(4, 1024), dtype:int32}, ShapeDtype{shape:(4, 33), dtype:int32})\n\n  File [...]/trax/layers/combinators.py, line 104, in init_weights_and_state\n    sublayer.init(inputs, use_cache=True))\n\nLayerError: Exception passing through layer CrossEntropyLoss (in init):\n  layer created in file [...]/trax/layers/metrics.py, line 96\n  layer input shapes: (ShapeDtype{shape:(4, 33), dtype:float32}, ShapeDtype{shape:(4, 33), dtype:int32})\n\n  File [...]/trax/layers/combinators.py, line 105, in init_weights_and_state\n    outputs, _ = sublayer._forward_abstract(inputs)\n\nLayerError: Exception passing through layer _CrossEntropy (in _forward_abstract):\n  layer created in file [...]/trax/layers/base.py, line 704\n  layer input shapes: (ShapeDtype{shape:(4, 33), dtype:float32}, ShapeDtype{shape:(4, 33), dtype:int32})\n\n  File [...]/jax/interpreters/partial_eval.py, line 324, in abstract_eval_fun\n    instantiate=True, stage_out=True)\n\n  File [...]/jax/interpreters/partial_eval.py, line 423, in trace_to_jaxpr\n    jaxpr, (out_pvals, consts, env) = fun.call_wrapped(pvals)\n\n  File [...]/site-packages/jax/linear_util.py, line 150, in call_wrapped\n    ans = self.f(*args, **dict(self.params, **kwargs))\n\n  File [...]/site-packages/jax/linear_util.py, line 150, in call_wrapped\n    ans = self.f(*args, **dict(self.params, **kwargs))\n\nLayerError: Exception passing through layer _CrossEntropy (in pure_fn):\n  layer created in file [...]/trax/layers/base.py, line 704\n  layer input shapes: (ShapeDtype{shape:(4, 33), dtype:float32}, ShapeDtype{shape:(4, 33), dtype:int32})\n\n  File [...]/trax/layers/base.py, line 658, in forward\n    raw_output = self._forward_fn(inputs)\n\n  File [...]/trax/layers/base.py, line 700, in _forward\n    return f(*xs)\n\n  File [...]/trax/layers/metrics.py, line 131, in f\n    return -1.0 * jnp.sum(model_output * target_distribution, axis=-1)\n\n  File [...]/site-packages/jax/core.py, line 485, in __mul__\n    def __mul__(self, other): return self.aval._mul(self, other)\n\n  File [...]/jax/numpy/lax_numpy.py, line 4384, in deferring_binary_op\n    return binary_op(self, other)\n\n  File [...]/jax/numpy/lax_numpy.py, line 362, in fn\n    x1, x2 = _promote_args(numpy_fn.__name__, x1, x2)\n\n  File [...]/jax/numpy/lax_numpy.py, line 304, in _promote_args\n    return _promote_shapes(fun_name, *_promote_dtypes(*args))\n\n  File [...]/jax/numpy/lax_numpy.py, line 242, in _promote_shapes\n    result_rank = len(lax.broadcast_shapes(*shapes))\n\n  File [...]/jax/lax/lax.py, line 80, in broadcast_shapes\n    .format(tuple(map(tuple, shapes))))\n\nValueError: Incompatible shapes for broadcasting: ((1, 4, 33), (4, 33, 33))"
     ]
    }
   ],
   "source": [
    "training_loop = training.Loop(transformer, train_task, eval_tasks=[eval_task])\n",
    "training_loop.run()"
   ]
  },
  {
   "cell_type": "code",
   "execution_count": null,
   "metadata": {},
   "outputs": [],
   "source": []
  }
 ],
 "metadata": {
  "kernelspec": {
   "display_name": "Python 3",
   "language": "python",
   "name": "python3"
  },
  "language_info": {
   "codemirror_mode": {
    "name": "ipython",
    "version": 3
   },
   "file_extension": ".py",
   "mimetype": "text/x-python",
   "name": "python",
   "nbconvert_exporter": "python",
   "pygments_lexer": "ipython3",
   "version": "3.7.5"
  }
 },
 "nbformat": 4,
 "nbformat_minor": 2
}
