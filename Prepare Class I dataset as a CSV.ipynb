{
 "cells": [
  {
   "cell_type": "code",
   "execution_count": 1,
   "metadata": {},
   "outputs": [
    {
     "name": "stdout",
     "output_type": "stream",
     "text": [
      "LICENSE  'Prepare Class I dataset as a CSV.ipynb'  README.md  class1.fasta.gz\r\n"
     ]
    }
   ],
   "source": [
    "ls"
   ]
  },
  {
   "cell_type": "code",
   "execution_count": 2,
   "metadata": {},
   "outputs": [
    {
     "name": "stderr",
     "output_type": "stream",
     "text": [
      "/usr/local/lib/python3.7/site-packages/skbio/util/_testing.py:15: FutureWarning: pandas.util.testing is deprecated. Use the functions in the public API at pandas.testing instead.\n",
      "  import pandas.util.testing as pdt\n"
     ]
    }
   ],
   "source": [
    "import skbio"
   ]
  },
  {
   "cell_type": "code",
   "execution_count": 23,
   "metadata": {},
   "outputs": [],
   "source": [
    "from collections import Counter\n",
    "species_and_gene_counter = Counter()\n",
    "species_counter = Counter()\n",
    "for r in skbio.read(\"class1.fasta.gz\", format=\"fasta\"):\n",
    "    species_and_gene = r.metadata[\"description\"].split()[0].split(\"*\")[0]\n",
    "    if species_and_gene.startswith(\"H-2\"):\n",
    "        species_and_gene = species_and_gene[:-1]\n",
    "        species = \"H-2\"\n",
    "    else:\n",
    "        species = species_and_gene.split(\"-\")[0]\n",
    "    species_and_gene_counter[species_and_gene] += 1\n",
    "    species_counter[species] += 1"
   ]
  },
  {
   "cell_type": "code",
   "execution_count": 24,
   "metadata": {},
   "outputs": [
    {
     "data": {
      "text/plain": [
       "Counter({'HLA': 11609,\n",
       "         'Atbe': 5,\n",
       "         'Atfu': 23,\n",
       "         'Caja': 112,\n",
       "         'Chae': 38,\n",
       "         'Gogo': 43,\n",
       "         'Hyla': 3,\n",
       "         'Lero': 2,\n",
       "         'Maar': 18,\n",
       "         'Mafa': 910,\n",
       "         'Mamu': 649,\n",
       "         'Mane': 339,\n",
       "         'Paan': 179,\n",
       "         'Pacy': 9,\n",
       "         'Papa': 67,\n",
       "         'Patr': 169,\n",
       "         'Pipi': 6,\n",
       "         'Popy': 57,\n",
       "         'Safu': 6,\n",
       "         'Sage': 2,\n",
       "         'Samy': 2,\n",
       "         'Saoe': 17,\n",
       "         'Sasc': 1,\n",
       "         'Ovar': 31,\n",
       "         'BoLA': 133,\n",
       "         'Eqca': 18,\n",
       "         'Cemi': 7,\n",
       "         'SLA': 259,\n",
       "         'Paha': 9,\n",
       "         'DLA': 75,\n",
       "         'Onmy': 73,\n",
       "         'Sasa': 112,\n",
       "         'H-2': 10})"
      ]
     },
     "execution_count": 24,
     "metadata": {},
     "output_type": "execute_result"
    }
   ],
   "source": [
    "species_counter"
   ]
  },
  {
   "cell_type": "code",
   "execution_count": 13,
   "metadata": {},
   "outputs": [
    {
     "data": {
      "text/plain": [
       "'H-2-Lq tr|Q31151|Q31151_MOUSE MHC class I L-q alpha-chain gene (H2 haplotype), exons 1-3 (Fragment) OS=Mus musculus OX=10090 PE=3 SV=1'"
      ]
     },
     "execution_count": 13,
     "metadata": {},
     "output_type": "execute_result"
    }
   ],
   "source": [
    "r.metadata[\"description\"].str.split()"
   ]
  },
  {
   "cell_type": "code",
   "execution_count": null,
   "metadata": {},
   "outputs": [],
   "source": []
  }
 ],
 "metadata": {
  "kernelspec": {
   "display_name": "Python 3",
   "language": "python",
   "name": "python3"
  },
  "language_info": {
   "codemirror_mode": {
    "name": "ipython",
    "version": 3
   },
   "file_extension": ".py",
   "mimetype": "text/x-python",
   "name": "python",
   "nbconvert_exporter": "python",
   "pygments_lexer": "ipython3",
   "version": "3.7.5"
  }
 },
 "nbformat": 4,
 "nbformat_minor": 2
}
