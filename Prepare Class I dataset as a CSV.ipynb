{
 "cells": [
  {
   "cell_type": "code",
   "execution_count": 26,
   "metadata": {},
   "outputs": [
    {
     "name": "stdout",
     "output_type": "stream",
     "text": [
      "LICENSE  'Prepare Class I dataset as a CSV.ipynb'  README.md  class1.fasta.gz\r\n"
     ]
    }
   ],
   "source": [
    "ls"
   ]
  },
  {
   "cell_type": "code",
   "execution_count": 27,
   "metadata": {},
   "outputs": [],
   "source": [
    "import skbio"
   ]
  },
  {
   "cell_type": "code",
   "execution_count": 55,
   "metadata": {},
   "outputs": [
    {
     "data": {
      "text/html": [
       "<div>\n",
       "<style scoped>\n",
       "    .dataframe tbody tr th:only-of-type {\n",
       "        vertical-align: middle;\n",
       "    }\n",
       "\n",
       "    .dataframe tbody tr th {\n",
       "        vertical-align: top;\n",
       "    }\n",
       "\n",
       "    .dataframe thead th {\n",
       "        text-align: right;\n",
       "    }\n",
       "</style>\n",
       "<table border=\"1\" class=\"dataframe\">\n",
       "  <thead>\n",
       "    <tr style=\"text-align: right;\">\n",
       "      <th></th>\n",
       "      <th>species_prefix</th>\n",
       "      <th>gene</th>\n",
       "      <th>allele</th>\n",
       "      <th>seq</th>\n",
       "      <th>id</th>\n",
       "    </tr>\n",
       "  </thead>\n",
       "  <tbody>\n",
       "    <tr>\n",
       "      <th>0</th>\n",
       "      <td>HLA</td>\n",
       "      <td>A</td>\n",
       "      <td>01:01</td>\n",
       "      <td>MAVMAPRTLLLLLSGALALTQTWAGSHSMRYFFTSVSRPGRGEPRF...</td>\n",
       "      <td>HLA:HLA00001</td>\n",
       "    </tr>\n",
       "    <tr>\n",
       "      <th>1</th>\n",
       "      <td>HLA</td>\n",
       "      <td>A</td>\n",
       "      <td>01:02</td>\n",
       "      <td>MAVMAPRTLLLLLSGALALTQTWAGSHSMRYFSTSVSRPGSGEPRF...</td>\n",
       "      <td>HLA:HLA00002</td>\n",
       "    </tr>\n",
       "    <tr>\n",
       "      <th>2</th>\n",
       "      <td>HLA</td>\n",
       "      <td>A</td>\n",
       "      <td>01:03</td>\n",
       "      <td>MAVMAPRTLLLLLSGALALTQTWAGSHSMRYFFTSVSRPGRGEPRF...</td>\n",
       "      <td>HLA:HLA00003</td>\n",
       "    </tr>\n",
       "    <tr>\n",
       "      <th>3</th>\n",
       "      <td>HLA</td>\n",
       "      <td>A</td>\n",
       "      <td>01:04</td>\n",
       "      <td>MAVMAPRTLLLLLSGALALTQTWAGSHSMRYFFTSVSRPGRGEPRF...</td>\n",
       "      <td>HLA:HLA00004</td>\n",
       "    </tr>\n",
       "    <tr>\n",
       "      <th>4</th>\n",
       "      <td>HLA</td>\n",
       "      <td>A</td>\n",
       "      <td>01:06</td>\n",
       "      <td>MAVMAPRTLLLLLSGALALTQTWAGSHSMRYFFTSVSRPGRGEPRF...</td>\n",
       "      <td>HLA:HLA01031</td>\n",
       "    </tr>\n",
       "    <tr>\n",
       "      <th>...</th>\n",
       "      <td>...</td>\n",
       "      <td>...</td>\n",
       "      <td>...</td>\n",
       "      <td>...</td>\n",
       "      <td>...</td>\n",
       "    </tr>\n",
       "    <tr>\n",
       "      <th>14988</th>\n",
       "      <td>H-2</td>\n",
       "      <td>K</td>\n",
       "      <td>k</td>\n",
       "      <td>MAPCMLLLLLAAALAPTQTRAGPHSLRYFHTAVSRPGLGKPRFISV...</td>\n",
       "      <td>sp|P04223|HA1K_MOUSE</td>\n",
       "    </tr>\n",
       "    <tr>\n",
       "      <th>14989</th>\n",
       "      <td>H-2</td>\n",
       "      <td>D</td>\n",
       "      <td>k</td>\n",
       "      <td>MGAMVPRTLLLLLAAALAPAQTRAGPHSLRYFETVVSRPGLGEPRF...</td>\n",
       "      <td>sp|P14426|HA13_MOUSE</td>\n",
       "    </tr>\n",
       "    <tr>\n",
       "      <th>14990</th>\n",
       "      <td>H-2</td>\n",
       "      <td>D</td>\n",
       "      <td>p</td>\n",
       "      <td>MAPRTLLLLLAAALAPTQTRAGPHSLRYFVTAVSRPGLGKPRYMEV...</td>\n",
       "      <td>sp|P14427|HA14_MOUSE</td>\n",
       "    </tr>\n",
       "    <tr>\n",
       "      <th>14991</th>\n",
       "      <td>H-2</td>\n",
       "      <td>K</td>\n",
       "      <td>q</td>\n",
       "      <td>PRFISVGYVDDTELVRFDSDAENPRYEPRARWMEQVEPEYWERNTQ...</td>\n",
       "      <td>sp|P14428|HA1Q_MOUSE</td>\n",
       "    </tr>\n",
       "    <tr>\n",
       "      <th>14992</th>\n",
       "      <td>H-2</td>\n",
       "      <td>L</td>\n",
       "      <td>q</td>\n",
       "      <td>MGAMAPRTLLLLLAAALAPTQTRAGPHSMRYFETAVSRPGLGEPRY...</td>\n",
       "      <td>tr|Q31151|Q31151_MOUSE</td>\n",
       "    </tr>\n",
       "  </tbody>\n",
       "</table>\n",
       "<p>14993 rows × 5 columns</p>\n",
       "</div>"
      ],
      "text/plain": [
       "      species_prefix gene allele  \\\n",
       "0                HLA    A  01:01   \n",
       "1                HLA    A  01:02   \n",
       "2                HLA    A  01:03   \n",
       "3                HLA    A  01:04   \n",
       "4                HLA    A  01:06   \n",
       "...              ...  ...    ...   \n",
       "14988            H-2    K      k   \n",
       "14989            H-2    D      k   \n",
       "14990            H-2    D      p   \n",
       "14991            H-2    K      q   \n",
       "14992            H-2    L      q   \n",
       "\n",
       "                                                     seq  \\\n",
       "0      MAVMAPRTLLLLLSGALALTQTWAGSHSMRYFFTSVSRPGRGEPRF...   \n",
       "1      MAVMAPRTLLLLLSGALALTQTWAGSHSMRYFSTSVSRPGSGEPRF...   \n",
       "2      MAVMAPRTLLLLLSGALALTQTWAGSHSMRYFFTSVSRPGRGEPRF...   \n",
       "3      MAVMAPRTLLLLLSGALALTQTWAGSHSMRYFFTSVSRPGRGEPRF...   \n",
       "4      MAVMAPRTLLLLLSGALALTQTWAGSHSMRYFFTSVSRPGRGEPRF...   \n",
       "...                                                  ...   \n",
       "14988  MAPCMLLLLLAAALAPTQTRAGPHSLRYFHTAVSRPGLGKPRFISV...   \n",
       "14989  MGAMVPRTLLLLLAAALAPAQTRAGPHSLRYFETVVSRPGLGEPRF...   \n",
       "14990  MAPRTLLLLLAAALAPTQTRAGPHSLRYFVTAVSRPGLGKPRYMEV...   \n",
       "14991  PRFISVGYVDDTELVRFDSDAENPRYEPRARWMEQVEPEYWERNTQ...   \n",
       "14992  MGAMAPRTLLLLLAAALAPTQTRAGPHSMRYFETAVSRPGLGEPRY...   \n",
       "\n",
       "                           id  \n",
       "0                HLA:HLA00001  \n",
       "1                HLA:HLA00002  \n",
       "2                HLA:HLA00003  \n",
       "3                HLA:HLA00004  \n",
       "4                HLA:HLA01031  \n",
       "...                       ...  \n",
       "14988    sp|P04223|HA1K_MOUSE  \n",
       "14989    sp|P14426|HA13_MOUSE  \n",
       "14990    sp|P14427|HA14_MOUSE  \n",
       "14991    sp|P14428|HA1Q_MOUSE  \n",
       "14992  tr|Q31151|Q31151_MOUSE  \n",
       "\n",
       "[14993 rows x 5 columns]"
      ]
     },
     "execution_count": 55,
     "metadata": {},
     "output_type": "execute_result"
    }
   ],
   "source": [
    "from collections import Counter, OrderedDict\n",
    "\n",
    "rows = []\n",
    "\n",
    "\n",
    "for r in skbio.read(\"class1.fasta.gz\", format=\"fasta\"):\n",
    "    species_gene_allele = r.metadata[\"description\"].split()[0]\n",
    "    if species_gene_allele.startswith(\"H-2\"):\n",
    "        allele = species_gene_allele[-1]\n",
    "        species_and_gene = species_gene_allele[:-1]\n",
    "        gene = species_and_gene[-1]\n",
    "        species = \"H-2\"\n",
    "    else:\n",
    "        parts = species_gene_allele.split(\"*\")\n",
    "        if len(parts) == 2:\n",
    "            species_and_gene, allele = parts\n",
    "            extra = \"\"\n",
    "        else:\n",
    "            species_and_gene, extra, allele = parts\n",
    "        \n",
    "        \n",
    "        species = species_gene_allele.split(\"-\")[0]\n",
    "        gene = \"-\".join(species_and_gene.split(\"-\")[1:]) + extra\n",
    "        \n",
    "    row = OrderedDict([\n",
    "        (\"species_prefix\", species),\n",
    "        (\"gene\", gene),\n",
    "        (\"allele\", allele),\n",
    "        (\"seq\", str(r)),\n",
    "        (\"id\", r.metadata[\"id\"]),\n",
    "    ])\n",
    "    rows.append(row)\n",
    "\n",
    "df = pd.DataFrame.from_records(rows);\n",
    "df.to_csv(\"class1_sequences.csv\", index=False)\n",
    "df"
   ]
  },
  {
   "cell_type": "code",
   "execution_count": 62,
   "metadata": {},
   "outputs": [],
   "source": []
  },
  {
   "cell_type": "code",
   "execution_count": 77,
   "metadata": {},
   "outputs": [],
   "source": [
    "\n"
   ]
  },
  {
   "cell_type": "code",
   "execution_count": 78,
   "metadata": {},
   "outputs": [
    {
     "data": {
      "text/plain": [
       "DeviceArray([-8.0666114e-09, -2.1927324e-08, -5.9604645e-08], dtype=float32)"
      ]
     },
     "execution_count": 78,
     "metadata": {},
     "output_type": "execute_result"
    }
   ],
   "source": []
  },
  {
   "cell_type": "code",
   "execution_count": 74,
   "metadata": {},
   "outputs": [],
   "source": []
  },
  {
   "cell_type": "code",
   "execution_count": 81,
   "metadata": {},
   "outputs": [],
   "source": [
    "from pepdata.amino_acid_alphabet import peptide_to_indices"
   ]
  },
  {
   "cell_type": "code",
   "execution_count": 91,
   "metadata": {},
   "outputs": [],
   "source": [
    "encoded_sequences = df.seq.str.replace(\"?\", \"X\").map(peptide_to_indices).values"
   ]
  },
  {
   "cell_type": "code",
   "execution_count": 109,
   "metadata": {},
   "outputs": [],
   "source": [
    "glorot = jax.nn.initializers.glorot_uniform??"
   ]
  },
  {
   "cell_type": "code",
   "execution_count": 110,
   "metadata": {},
   "outputs": [],
   "source": [
    "glorot = jax.nn.initializers.glorot_uniform()"
   ]
  },
  {
   "cell_type": "code",
   "execution_count": 115,
   "metadata": {},
   "outputs": [],
   "source": [
    "w = glorot(key, shape=(21, 60))"
   ]
  },
  {
   "cell_type": "code",
   "execution_count": 116,
   "metadata": {},
   "outputs": [
    {
     "data": {
      "text/plain": [
       "DeviceArray([[-0.24441464,  0.08583663,  0.22082128, ..., -0.0889992 ,\n",
       "              -0.19414742,  0.18772669],\n",
       "             [-0.12343033,  0.27106592,  0.10427065, ...,  0.11683659,\n",
       "               0.22325332,  0.24368568],\n",
       "             [ 0.20049833, -0.11135293, -0.11803737, ...,  0.20692685,\n",
       "               0.17882296,  0.18202947],\n",
       "             ...,\n",
       "             [ 0.1441197 , -0.23909573,  0.07927321, ..., -0.26075074,\n",
       "               0.21366651,  0.08117434],\n",
       "             [-0.15124331, -0.17003818,  0.17474356, ..., -0.2646241 ,\n",
       "              -0.22696786, -0.07925101],\n",
       "             [-0.21590526, -0.01780193, -0.03946471, ..., -0.10800146,\n",
       "               0.00541897,  0.01096357]], dtype=float32)"
      ]
     },
     "execution_count": 116,
     "metadata": {},
     "output_type": "execute_result"
    }
   ],
   "source": [
    "w"
   ]
  },
  {
   "cell_type": "code",
   "execution_count": 118,
   "metadata": {},
   "outputs": [],
   "source": [
    "def mse(y_pred, y_true):\n",
    "    return ((y_pred-y_true)**2).mean()"
   ]
  },
  {
   "cell_type": "code",
   "execution_count": 135,
   "metadata": {},
   "outputs": [],
   "source": [
    "A_idx = np.where((df.species_prefix == \"HLA\") & (df.gene == \"A\"))[0]"
   ]
  },
  {
   "cell_type": "code",
   "execution_count": 136,
   "metadata": {},
   "outputs": [
    {
     "data": {
      "text/plain": [
       "DeviceArray([   0,    1,    2, ..., 3592, 3593, 3594], dtype=int32)"
      ]
     },
     "execution_count": 136,
     "metadata": {},
     "output_type": "execute_result"
    }
   ],
   "source": [
    "A_idx"
   ]
  },
  {
   "cell_type": "code",
   "execution_count": 137,
   "metadata": {},
   "outputs": [],
   "source": [
    "B_idx = np.where((df.species_prefix == \"HLA\")  & (df.gene == \"B\"))[0]"
   ]
  },
  {
   "cell_type": "code",
   "execution_count": 138,
   "metadata": {},
   "outputs": [
    {
     "data": {
      "text/plain": [
       "DeviceArray([3595, 3596, 3597, ..., 8145, 8146, 8147], dtype=int32)"
      ]
     },
     "execution_count": 138,
     "metadata": {},
     "output_type": "execute_result"
    }
   ],
   "source": [
    "B_idx"
   ]
  },
  {
   "cell_type": "code",
   "execution_count": 139,
   "metadata": {},
   "outputs": [
    {
     "data": {
      "text/plain": [
       "3595"
      ]
     },
     "execution_count": 139,
     "metadata": {},
     "output_type": "execute_result"
    }
   ],
   "source": [
    "len(A_idx)"
   ]
  },
  {
   "cell_type": "code",
   "execution_count": 140,
   "metadata": {},
   "outputs": [
    {
     "data": {
      "text/plain": [
       "4553"
      ]
     },
     "execution_count": 140,
     "metadata": {},
     "output_type": "execute_result"
    }
   ],
   "source": [
    "len(B_idx)"
   ]
  },
  {
   "cell_type": "code",
   "execution_count": 142,
   "metadata": {},
   "outputs": [],
   "source": [
    "def forward(indices):\n",
    "    return np.array([w[i] for i in indices])"
   ]
  },
  {
   "cell_type": "code",
   "execution_count": 144,
   "metadata": {},
   "outputs": [],
   "source": [
    "jax.vmap(forward, in_axes=None, out_axes=)"
   ]
  },
  {
   "cell_type": "code",
   "execution_count": null,
   "metadata": {},
   "outputs": [],
   "source": []
  }
 ],
 "metadata": {
  "kernelspec": {
   "display_name": "Python 3",
   "language": "python",
   "name": "python3"
  },
  "language_info": {
   "codemirror_mode": {
    "name": "ipython",
    "version": 3
   },
   "file_extension": ".py",
   "mimetype": "text/x-python",
   "name": "python",
   "nbconvert_exporter": "python",
   "pygments_lexer": "ipython3",
   "version": "3.7.5"
  }
 },
 "nbformat": 4,
 "nbformat_minor": 2
}
