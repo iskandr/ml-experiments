{
 "cells": [
  {
   "cell_type": "code",
   "execution_count": 1,
   "metadata": {},
   "outputs": [
    {
     "data": {
      "text/plain": [
       "<torch._C.Generator at 0x150336910>"
      ]
     },
     "execution_count": 1,
     "metadata": {},
     "output_type": "execute_result"
    }
   ],
   "source": [
    "import torch\n",
    "import torch.nn as nn\n",
    "import torch.nn.functional as F\n",
    "import torch.optim as optim\n",
    "\n",
    "torch.manual_seed(1)"
   ]
  },
  {
   "cell_type": "code",
   "execution_count": 2,
   "metadata": {},
   "outputs": [
    {
     "name": "stdout",
     "output_type": "stream",
     "text": [
      "tensor([[[-0.0187,  0.1713, -0.2944]],\n",
      "\n",
      "        [[-0.3521,  0.1026, -0.2971]],\n",
      "\n",
      "        [[-0.3191,  0.0781, -0.1957]],\n",
      "\n",
      "        [[-0.1634,  0.0941, -0.1637]],\n",
      "\n",
      "        [[-0.3368,  0.0959, -0.0538]]], grad_fn=<StackBackward>)\n",
      "(tensor([[[-0.3368,  0.0959, -0.0538]]], grad_fn=<StackBackward>), tensor([[[-0.9825,  0.4715, -0.0633]]], grad_fn=<StackBackward>))\n"
     ]
    }
   ],
   "source": [
    "lstm = nn.LSTM(3, 3)  # Input dim is 3, output dim is 3\n",
    "inputs = [torch.randn(1, 3) for _ in range(5)]  # make a sequence of length 5\n",
    "\n",
    "# initialize the hidden state.\n",
    "hidden = (torch.randn(1, 1, 3),\n",
    "          torch.randn(1, 1, 3))\n",
    "for i in inputs:\n",
    "    # Step through the sequence one element at a time.\n",
    "    # after each step, hidden contains the hidden state.\n",
    "    out, hidden = lstm(i.view(1, 1, -1), hidden)\n",
    "\n",
    "# alternatively, we can do the entire sequence all at once.\n",
    "# the first value returned by LSTM is all of the hidden states throughout\n",
    "# the sequence. the second is just the most recent hidden state\n",
    "# (compare the last slice of \"out\" with \"hidden\" below, they are the same)\n",
    "# The reason for this is that:\n",
    "# \"out\" will give you access to all hidden states in the sequence\n",
    "# \"hidden\" will allow you to continue the sequence and backpropagate,\n",
    "# by passing it as an argument  to the lstm at a later time\n",
    "# Add the extra 2nd dimension\n",
    "inputs = torch.cat(inputs).view(len(inputs), 1, -1)\n",
    "hidden = (torch.randn(1, 1, 3), torch.randn(1, 1, 3))  # clean out hidden state\n",
    "out, hidden = lstm(inputs, hidden)\n",
    "print(out)\n",
    "\n",
    "print(hidden)"
   ]
  },
  {
   "cell_type": "code",
   "execution_count": 20,
   "metadata": {},
   "outputs": [],
   "source": [
    "import torch\n",
    "import torch.nn as nn\n",
    "import torch.nn.functional as F\n",
    "import torch.optim as optim\n",
    "\n",
    "torch.manual_seed(1)\n",
    "n_aa = 21 \n",
    "n_tokens = n_aa + 2\n",
    "embedding_dim = 64\n",
    "lstm_hidden_dim = 128\n",
    "embed = torch.nn.Embedding(n_tokens, embedding_dim)\n",
    "lstm = nn.LSTM(input_size=embedding_dim, hidden_size=lstm_hidden_dim, num_layers=2, batch_first=True)\n",
    "\n",
    "def train_model(model, epochs=10, lr=0.001):\n",
    "    parameters = filter(lambda p: p.requires_grad, model.parameters())\n",
    "    optimizer = torch.optim.Adam(parameters, lr=lr)\n",
    "    for i in range(epochs):\n",
    "        model.train()\n",
    "        sum_loss = 0.0\n",
    "        total = 0\n",
    "        for x, y, l in train_dl:\n",
    "            x = x.long()\n",
    "            y = y.long()\n",
    "            y_pred = model(x, l)\n",
    "            optimizer.zero_grad()\n",
    "            loss = F.cross_entropy(y_pred, y)\n",
    "            loss.backward()\n",
    "            optimizer.step()\n",
    "            sum_loss += loss.item()*y.shape[0]\n",
    "            total += y.shape[0]\n",
    "        val_loss, val_acc, val_rmse = validation_metrics(model, val_dl)\n",
    "        if i % 5 == 1:\n",
    "            print(\"train loss %.3f, val loss %.3f, val accuracy %.3f, and val rmse %.3f\" % (sum_loss/total, val_loss, val_acc, val_rmse))\n"
   ]
  },
  {
   "cell_type": "code",
   "execution_count": 21,
   "metadata": {},
   "outputs": [],
   "source": [
    "a = torch.randn(5, 7, dtype=torch.double)\n",
    "a_int = a.abs().long()"
   ]
  },
  {
   "cell_type": "code",
   "execution_count": 22,
   "metadata": {},
   "outputs": [
    {
     "data": {
      "text/plain": [
       "tensor([[0, 1, 0, 0, 0, 0, 0],\n",
       "        [1, 0, 0, 0, 0, 0, 0],\n",
       "        [1, 1, 0, 0, 1, 2, 0],\n",
       "        [0, 1, 0, 0, 0, 1, 1],\n",
       "        [0, 1, 0, 0, 0, 1, 1]])"
      ]
     },
     "execution_count": 22,
     "metadata": {},
     "output_type": "execute_result"
    }
   ],
   "source": [
    "a_int"
   ]
  },
  {
   "cell_type": "code",
   "execution_count": 17,
   "metadata": {},
   "outputs": [
    {
     "data": {
      "text/plain": [
       "tensor([[[-0.7371, -0.8117,  1.8271,  ..., -1.8414,  0.8111,  0.5779],\n",
       "         [-0.7371, -0.8117,  1.8271,  ..., -1.8414,  0.8111,  0.5779],\n",
       "         [-2.0179,  0.4484,  0.6995,  ..., -0.0887,  0.3736,  1.8991],\n",
       "         ...,\n",
       "         [-2.0179,  0.4484,  0.6995,  ..., -0.0887,  0.3736,  1.8991],\n",
       "         [-0.7371, -0.8117,  1.8271,  ..., -1.8414,  0.8111,  0.5779],\n",
       "         [-0.7371, -0.8117,  1.8271,  ..., -1.8414,  0.8111,  0.5779]],\n",
       "\n",
       "        [[-0.7371, -0.8117,  1.8271,  ..., -1.8414,  0.8111,  0.5779],\n",
       "         [-0.7371, -0.8117,  1.8271,  ..., -1.8414,  0.8111,  0.5779],\n",
       "         [-0.7371, -0.8117,  1.8271,  ..., -1.8414,  0.8111,  0.5779],\n",
       "         ...,\n",
       "         [-0.7371, -0.8117,  1.8271,  ..., -1.8414,  0.8111,  0.5779],\n",
       "         [-0.7371, -0.8117,  1.8271,  ..., -1.8414,  0.8111,  0.5779],\n",
       "         [-0.7371, -0.8117,  1.8271,  ..., -1.8414,  0.8111,  0.5779]],\n",
       "\n",
       "        [[-0.7371, -0.8117,  1.8271,  ..., -1.8414,  0.8111,  0.5779],\n",
       "         [-2.0179,  0.4484,  0.6995,  ..., -0.0887,  0.3736,  1.8991],\n",
       "         [-2.0179,  0.4484,  0.6995,  ..., -0.0887,  0.3736,  1.8991],\n",
       "         ...,\n",
       "         [-0.7948, -1.4730,  1.8940,  ..., -0.5546, -0.3111,  0.3290],\n",
       "         [-0.7371, -0.8117,  1.8271,  ..., -1.8414,  0.8111,  0.5779],\n",
       "         [-0.7371, -0.8117,  1.8271,  ..., -1.8414,  0.8111,  0.5779]],\n",
       "\n",
       "        [[-0.7371, -0.8117,  1.8271,  ..., -1.8414,  0.8111,  0.5779],\n",
       "         [-0.7371, -0.8117,  1.8271,  ..., -1.8414,  0.8111,  0.5779],\n",
       "         [-2.0179,  0.4484,  0.6995,  ..., -0.0887,  0.3736,  1.8991],\n",
       "         ...,\n",
       "         [-0.7371, -0.8117,  1.8271,  ..., -1.8414,  0.8111,  0.5779],\n",
       "         [-2.0179,  0.4484,  0.6995,  ..., -0.0887,  0.3736,  1.8991],\n",
       "         [-0.7371, -0.8117,  1.8271,  ..., -1.8414,  0.8111,  0.5779]],\n",
       "\n",
       "        [[-0.7371, -0.8117,  1.8271,  ..., -1.8414,  0.8111,  0.5779],\n",
       "         [-0.7371, -0.8117,  1.8271,  ..., -1.8414,  0.8111,  0.5779],\n",
       "         [-2.0179,  0.4484,  0.6995,  ..., -0.0887,  0.3736,  1.8991],\n",
       "         ...,\n",
       "         [-2.0179,  0.4484,  0.6995,  ..., -0.0887,  0.3736,  1.8991],\n",
       "         [-0.7371, -0.8117,  1.8271,  ..., -1.8414,  0.8111,  0.5779],\n",
       "         [-2.0179,  0.4484,  0.6995,  ..., -0.0887,  0.3736,  1.8991]]],\n",
       "       grad_fn=<EmbeddingBackward>)"
      ]
     },
     "execution_count": 17,
     "metadata": {},
     "output_type": "execute_result"
    }
   ],
   "source": [
    "embed(a_int)"
   ]
  },
  {
   "cell_type": "code",
   "execution_count": null,
   "metadata": {},
   "outputs": [],
   "source": []
  }
 ],
 "metadata": {
  "kernelspec": {
   "display_name": "Python 3",
   "language": "python",
   "name": "python3"
  },
  "language_info": {
   "codemirror_mode": {
    "name": "ipython",
    "version": 3
   },
   "file_extension": ".py",
   "mimetype": "text/x-python",
   "name": "python",
   "nbconvert_exporter": "python",
   "pygments_lexer": "ipython3",
   "version": "3.7.5"
  }
 },
 "nbformat": 4,
 "nbformat_minor": 2
}
